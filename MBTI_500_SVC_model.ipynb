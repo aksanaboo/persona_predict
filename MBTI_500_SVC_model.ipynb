{
  "nbformat": 4,
  "nbformat_minor": 0,
  "metadata": {
    "colab": {
      "provenance": [],
      "authorship_tag": "ABX9TyMshJ7qt7ATohmcRuC13Vbe",
      "include_colab_link": true
    },
    "kernelspec": {
      "name": "python3",
      "display_name": "Python 3"
    },
    "language_info": {
      "name": "python"
    }
  },
  "cells": [
    {
      "cell_type": "markdown",
      "metadata": {
        "id": "view-in-github",
        "colab_type": "text"
      },
      "source": [
        "<a href=\"https://colab.research.google.com/github/aksanaboo/persona_predict/blob/master/MBTI_500_SVC_model.ipynb\" target=\"_parent\"><img src=\"https://colab.research.google.com/assets/colab-badge.svg\" alt=\"Open In Colab\"/></a>"
      ]
    },
    {
      "cell_type": "code",
      "execution_count": 1,
      "metadata": {
        "id": "3GnDh5aOFLPv"
      },
      "outputs": [],
      "source": [
        "import numpy as np\n",
        "import pandas as pd\n",
        "\n",
        "from sklearn.model_selection import train_test_split\n",
        "from sklearn.feature_extraction.text import TfidfVectorizer\n",
        "from sklearn.svm import LinearSVC\n",
        "from sklearn.pipeline import Pipeline\n",
        "from sklearn import metrics\n",
        "from sklearn.metrics import classification_report, f1_score\n",
        "import pickle\n",
        "import os.path\n",
        "import plotly.offline as pyo\n",
        "import plotly.graph_objs as go\n",
        "from sklearn.feature_extraction.text import CountVectorizer\n",
        "from sklearn.model_selection import GridSearchCV"
      ]
    },
    {
      "cell_type": "code",
      "source": [
        "from google.colab import drive\n",
        "drive.mount('/content/drive')"
      ],
      "metadata": {
        "colab": {
          "base_uri": "https://localhost:8080/"
        },
        "id": "pKqCVf96FMKO",
        "outputId": "75865457-7e7a-46ce-ecf8-7c42d1732687"
      },
      "execution_count": 2,
      "outputs": [
        {
          "output_type": "stream",
          "name": "stdout",
          "text": [
            "Mounted at /content/drive\n"
          ]
        }
      ]
    },
    {
      "cell_type": "code",
      "source": [
        "mbti_data = pd.read_csv('/content/drive/MyDrive/Colab Notebooks/MBTI 500.csv')\n"
      ],
      "metadata": {
        "id": "4dVIK9VxFRV-"
      },
      "execution_count": 3,
      "outputs": []
    },
    {
      "cell_type": "code",
      "source": [
        "mbti_data = mbti_data.rename(columns={'type':'personality_type'})"
      ],
      "metadata": {
        "id": "dK0eJIklFXeQ"
      },
      "execution_count": 4,
      "outputs": []
    },
    {
      "cell_type": "code",
      "source": [
        "recreate_model=False"
      ],
      "metadata": {
        "id": "xCR4fTYfFgcN"
      },
      "execution_count": 5,
      "outputs": []
    },
    {
      "cell_type": "code",
      "source": [
        "filename = 'mbti500_SVCmodel.sav'"
      ],
      "metadata": {
        "id": "3RyB9xoPFi1b"
      },
      "execution_count": 6,
      "outputs": []
    },
    {
      "cell_type": "code",
      "source": [
        "if not os.path.isfile(filename):\n",
        "    recreate_model=True"
      ],
      "metadata": {
        "id": "PmbuqtcUFksN"
      },
      "execution_count": 7,
      "outputs": []
    },
    {
      "cell_type": "code",
      "source": [
        "X = mbti_data['posts']\n",
        "y = mbti_data['personality_type']\n",
        "X_train, X_test, y_train, y_test = train_test_split(X, y, test_size=0.3, random_state=42)"
      ],
      "metadata": {
        "id": "KOnsWskKFo4D"
      },
      "execution_count": 8,
      "outputs": []
    },
    {
      "cell_type": "code",
      "source": [
        "if recreate_model:\n",
        "\n",
        "\n",
        "    # Split the data into training and validation sets\n",
        "    X_train, X_val, y_train, y_val = train_test_split(X_train, y_train, test_size=0.2, random_state=42)\n",
        "\n",
        "    # Creating an instance of the vectorizer and training it\n",
        "    vectorizer = TfidfVectorizer(max_features=5000)\n",
        "    X_train_tfidf = vectorizer.fit_transform(X_train)\n",
        "    X_val_tfidf = vectorizer.transform(X_val)\n",
        "\n",
        "    # Training the classifier\n",
        "    clf = LinearSVC(C=1.0, loss='hinge', random_state=42,max_iter=5000)\n",
        "    clf.fit(X_train_tfidf, y_train)\n",
        "\n",
        "    # Pipelining the vectorizer and the classifier\n",
        "    text_clf = Pipeline([('tfidf', vectorizer), ('clf', clf)])\n",
        "    text_clf.fit(X_train, y_train)\n",
        "\n",
        "    # Save the model to disk\n",
        "    with open(filename, 'wb') as model_file:\n",
        "        pickle.dump(text_clf, model_file)\n",
        "\n",
        "    # Evaluate the model on the validation set\n",
        "    val_accuracy = text_clf.score(X_val, y_val)\n",
        "    print(\"Validation Accuracy:\", val_accuracy)\n",
        "\n",
        "# Load the model from disk\n",
        "with open(filename, 'rb') as model_file:\n",
        "    text_clf = pickle.load(model_file)\n",
        "\n",
        "# Assuming X_test and y_test are your testing data\n",
        "test_accuracy = text_clf.score(X_test, y_test)\n",
        "print(\"Test Accuracy:\", test_accuracy)\n",
        "\n"
      ],
      "metadata": {
        "colab": {
          "base_uri": "https://localhost:8080/"
        },
        "id": "lRDwSKdcFraF",
        "outputId": "334d078c-a108-45ea-9c9c-43e1990299c2"
      },
      "execution_count": 9,
      "outputs": [
        {
          "output_type": "stream",
          "name": "stdout",
          "text": [
            "Validation Accuracy: 0.8189225589225589\n",
            "Test Accuracy: 0.8188617579585808\n"
          ]
        }
      ]
    },
    {
      "cell_type": "code",
      "source": [
        "predictions = text_clf.predict(X_test)"
      ],
      "metadata": {
        "id": "xe6CP81-F0Jn"
      },
      "execution_count": 10,
      "outputs": []
    },
    {
      "cell_type": "code",
      "source": [
        "print(classification_report(y_test, predictions))"
      ],
      "metadata": {
        "colab": {
          "base_uri": "https://localhost:8080/"
        },
        "id": "ztl8BU2VF_5i",
        "outputId": "7d6cfe8f-e426-4c85-e3e6-4bf0ed1897cc"
      },
      "execution_count": 11,
      "outputs": [
        {
          "output_type": "stream",
          "name": "stdout",
          "text": [
            "              precision    recall  f1-score   support\n",
            "\n",
            "        ENFJ       0.77      0.61      0.68       484\n",
            "        ENFP       0.82      0.76      0.79      1834\n",
            "        ENTJ       0.84      0.74      0.79       907\n",
            "        ENTP       0.83      0.81      0.82      3494\n",
            "        ESFJ       0.43      0.33      0.38        54\n",
            "        ESFP       0.60      0.45      0.51       103\n",
            "        ESTJ       0.81      0.82      0.81       157\n",
            "        ESTP       0.89      0.89      0.89       595\n",
            "        INFJ       0.81      0.82      0.82      4426\n",
            "        INFP       0.79      0.81      0.80      3612\n",
            "        INTJ       0.82      0.86      0.84      6690\n",
            "        INTP       0.83      0.87      0.85      7604\n",
            "        ISFJ       0.68      0.54      0.60       203\n",
            "        ISFP       0.68      0.55      0.61       242\n",
            "        ISTJ       0.75      0.60      0.66       384\n",
            "        ISTP       0.85      0.78      0.81      1032\n",
            "\n",
            "    accuracy                           0.82     31821\n",
            "   macro avg       0.76      0.70      0.73     31821\n",
            "weighted avg       0.82      0.82      0.82     31821\n",
            "\n"
          ]
        }
      ]
    },
    {
      "cell_type": "code",
      "source": [
        "print(f\"Overall accuracy of the model: {round(metrics.accuracy_score(y_test, predictions),2)}\")"
      ],
      "metadata": {
        "colab": {
          "base_uri": "https://localhost:8080/"
        },
        "id": "N9Biey31GCB5",
        "outputId": "de8e0abd-26d4-4a97-d5af-83c9b782fc36"
      },
      "execution_count": 12,
      "outputs": [
        {
          "output_type": "stream",
          "name": "stdout",
          "text": [
            "Overall accuracy of the model: 0.82\n"
          ]
        }
      ]
    },
    {
      "cell_type": "code",
      "source": [],
      "metadata": {
        "id": "cDxJgiQbG4KC"
      },
      "execution_count": 12,
      "outputs": []
    }
  ]
}